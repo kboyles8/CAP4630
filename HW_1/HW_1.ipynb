{
  "nbformat": 4,
  "nbformat_minor": 0,
  "metadata": {
    "colab": {
      "name": "HW1.ipynb",
      "provenance": [],
      "collapsed_sections": [],
      "authorship_tag": "ABX9TyO9qdMKa6DVQIGX3jk4pHTc",
      "include_colab_link": true
    },
    "kernelspec": {
      "name": "python3",
      "display_name": "Python 3"
    }
  },
  "cells": [
    {
      "cell_type": "markdown",
      "metadata": {
        "id": "view-in-github",
        "colab_type": "text"
      },
      "source": [
        "<a href=\"https://colab.research.google.com/github/kboyles8/CAP4630/blob/master/HW_1/HW_1.ipynb\" target=\"_parent\"><img src=\"https://colab.research.google.com/assets/colab-badge.svg\" alt=\"Open In Colab\"/></a>"
      ]
    },
    {
      "cell_type": "markdown",
      "metadata": {
        "id": "cGBUE7let9G6",
        "colab_type": "text"
      },
      "source": [
        "# Project Description"
      ]
    },
    {
      "cell_type": "markdown",
      "metadata": {
        "id": "mEyz85XS2ezH",
        "colab_type": "text"
      },
      "source": [
        "The goal of this project is to create a function that, given a list of matrices, calculates the product of all matrices in left to right order, or throws an exception if this is not possible. Order is important, as there are rules about how matrices can be multiplied.\n",
        "\n",
        "## Matrix multiplication rules\n",
        "\n",
        "Two matrices can be multiplied only if the number of columns of the first matrix is equal to the number of rows of the second matrix. For example, the following matrices are compatible, as the first matrix has 2 columns, and the second matrix has 2 rows.\n",
        "\n",
        "$\\begin{bmatrix}\n",
        "1 & 2 \\\\\n",
        "3 & 4 \\\\\n",
        "5 & 6\n",
        "\\end{bmatrix}\n",
        "\\begin{bmatrix}\n",
        "1 & 2 & 1 \\\\\n",
        "2 & 1 & 2\n",
        "\\end{bmatrix}\n",
        "=\n",
        "\\begin{bmatrix}\n",
        "5 & 4 & 5 \\\\\n",
        "11 & 10 & 11 \\\\\n",
        "17 & 16 & 17\n",
        "\\end{bmatrix}$\n",
        "\n",
        "However, the following matrices are not compatible, as the first matrix has **2** columns and the second matrix has **3** rows. These matrices can not be multiplied.\n",
        "\n",
        "$\\begin{bmatrix}\n",
        "1 & 2 \\\\\n",
        "3 & 4 \\\\\n",
        "5 & 6\n",
        "\\end{bmatrix}\n",
        "\\begin{bmatrix}\n",
        "1 & 2 \\\\\n",
        "2 & 1 \\\\\n",
        "1 & 2 \\\\\n",
        "\\end{bmatrix}\n",
        "=\n",
        "ERROR$"
      ]
    },
    {
      "cell_type": "markdown",
      "metadata": {
        "id": "XDNMTOK-1kEg",
        "colab_type": "text"
      },
      "source": [
        "# The matrix multiplication function"
      ]
    },
    {
      "cell_type": "markdown",
      "metadata": {
        "id": "0Oke4qnY2k6I",
        "colab_type": "text"
      },
      "source": [
        "Below is the code for the matrix multiplication function. It takes a list of matrices and calculates the product, throwing an exception if any of the matrices are not compatible."
      ]
    },
    {
      "cell_type": "code",
      "metadata": {
        "id": "Mt0BGvjdt87C",
        "colab_type": "code",
        "colab": {}
      },
      "source": [
        "from typing import List\n",
        "import numpy as np\n",
        "\n",
        "\n",
        "def multiply_matrices(matrices: List[np.array]) -> np.array:\n",
        "    # Handle the empty case\n",
        "    if (len(matrices) == 0):\n",
        "        return []\n",
        "\n",
        "    # Check if the matricies can be multiplied together\n",
        "    for i in range(len(matrices)-1):\n",
        "        # If number of columns of the first matrix does not match the number of\n",
        "        # rows of the second matrix\n",
        "        if (matrices[i].shape[1] != matrices[i+1].shape[0]):\n",
        "            raise ValueError(\n",
        "                f'Matrix {i} {matrices[i].shape} is not compatible with '\n",
        "                f'matrix {i+1} {matrices[i+1].shape}'\n",
        "            )\n",
        "\n",
        "    # Perform multiplication\n",
        "    result_matrix = matrices[0]\n",
        "    for matrix in matrices[1:]:\n",
        "        result_matrix = np.matmul(result_matrix, matrix)\n",
        "\n",
        "    return result_matrix\n"
      ],
      "execution_count": 0,
      "outputs": []
    },
    {
      "cell_type": "markdown",
      "metadata": {
        "id": "XHVQy9WI1nSv",
        "colab_type": "text"
      },
      "source": [
        "# Testing the matrix multiplication function"
      ]
    },
    {
      "cell_type": "markdown",
      "metadata": {
        "id": "9hpgnA6A2oAM",
        "colab_type": "text"
      },
      "source": [
        "In this section, several tests are performed on the matrix multiplication function to ensure it functions correctly."
      ]
    },
    {
      "cell_type": "markdown",
      "metadata": {
        "id": "tvQq-4PM0fSh",
        "colab_type": "text"
      },
      "source": [
        "## Testing a valid matrix multiplication"
      ]
    },
    {
      "cell_type": "markdown",
      "metadata": {
        "id": "PBJm5WCG2rNn",
        "colab_type": "text"
      },
      "source": [
        "This tests two matrices that are compatible"
      ]
    },
    {
      "cell_type": "code",
      "metadata": {
        "id": "ZzUmfzpnwuxc",
        "colab_type": "code",
        "outputId": "4772b6db-4bbb-405e-bb3b-3e5e505fce25",
        "colab": {
          "base_uri": "https://localhost:8080/",
          "height": 68
        }
      },
      "source": [
        "test_matricies_good = [\n",
        "    np.array([[1, 2],\n",
        "              [3, 4],\n",
        "              [5, 6]]),\n",
        "\n",
        "    np.array([[1, 2, 1],\n",
        "              [2, 1, 2]])\n",
        "]\n",
        "\n",
        "print(multiply_matrices(test_matricies_good))\n"
      ],
      "execution_count": 26,
      "outputs": [
        {
          "output_type": "stream",
          "text": [
            "[[ 5  4  5]\n",
            " [11 10 11]\n",
            " [17 16 17]]\n"
          ],
          "name": "stdout"
        }
      ]
    },
    {
      "cell_type": "markdown",
      "metadata": {
        "id": "qqZsXm6M0cTu",
        "colab_type": "text"
      },
      "source": [
        "## Testing an invalid matrix multiplication"
      ]
    },
    {
      "cell_type": "markdown",
      "metadata": {
        "id": "K_Xmo6FD2138",
        "colab_type": "text"
      },
      "source": [
        "This tests two matrices that are **not** compatible"
      ]
    },
    {
      "cell_type": "code",
      "metadata": {
        "id": "5voydfxDxwGT",
        "colab_type": "code",
        "colab": {
          "base_uri": "https://localhost:8080/",
          "height": 34
        },
        "outputId": "04a1283a-f65a-41a1-f871-d20e35910a15"
      },
      "source": [
        "test_matricies_invalid = [\n",
        "    np.array([[1, 2],\n",
        "              [3, 4],\n",
        "              [5, 6]]),\n",
        "\n",
        "    np.array([[1, 2],\n",
        "              [2, 1],\n",
        "              [1, 2]])\n",
        "]\n",
        "\n",
        "try:\n",
        "    print(multiply_matrices(test_matricies_invalid))\n",
        "except ValueError as ex:\n",
        "    print(ex)\n"
      ],
      "execution_count": 27,
      "outputs": [
        {
          "output_type": "stream",
          "text": [
            "Matrix 0 (3, 2) is not compatible with matrix 1 (3, 2)\n"
          ],
          "name": "stdout"
        }
      ]
    },
    {
      "cell_type": "markdown",
      "metadata": {
        "id": "r82gZZOj0ZO4",
        "colab_type": "text"
      },
      "source": [
        "## Testing the trivial cases"
      ]
    },
    {
      "cell_type": "markdown",
      "metadata": {
        "id": "V26GyrPW24gR",
        "colab_type": "text"
      },
      "source": [
        "This tests two trivial cases: where only a single matrix is provided, and when no matrices are provided. It was decied to handle these by returning the given matrix and an empty matrix, respectively."
      ]
    },
    {
      "cell_type": "markdown",
      "metadata": {
        "id": "z-lmkT1Q1WGJ",
        "colab_type": "text"
      },
      "source": [
        "### A single matrix"
      ]
    },
    {
      "cell_type": "code",
      "metadata": {
        "id": "qqs47tEXy6Ft",
        "colab_type": "code",
        "colab": {
          "base_uri": "https://localhost:8080/",
          "height": 68
        },
        "outputId": "dd924ab7-193e-4e1c-fa2a-85d4ff17be39"
      },
      "source": [
        "test_matricies_trivial = [\n",
        "    np.array([[1, 2],\n",
        "              [3, 4],\n",
        "              [5, 6]])\n",
        "]\n",
        "\n",
        "print(multiply_matrices(test_matricies_trivial))\n"
      ],
      "execution_count": 28,
      "outputs": [
        {
          "output_type": "stream",
          "text": [
            "[[1 2]\n",
            " [3 4]\n",
            " [5 6]]\n"
          ],
          "name": "stdout"
        }
      ]
    },
    {
      "cell_type": "markdown",
      "metadata": {
        "id": "8QD49iNH1Zov",
        "colab_type": "text"
      },
      "source": [
        "### No matrices"
      ]
    },
    {
      "cell_type": "code",
      "metadata": {
        "colab_type": "code",
        "outputId": "d9e8fc8f-be08-4b0b-86ae-9717b22da4db",
        "id": "PHbhOaJ80vEy",
        "colab": {
          "base_uri": "https://localhost:8080/",
          "height": 34
        }
      },
      "source": [
        "test_matricies_trivial_empty = []\n",
        "\n",
        "print(multiply_matrices(test_matricies_trivial_empty))\n"
      ],
      "execution_count": 29,
      "outputs": [
        {
          "output_type": "stream",
          "text": [
            "[]\n"
          ],
          "name": "stdout"
        }
      ]
    }
  ]
}