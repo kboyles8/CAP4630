{
  "nbformat": 4,
  "nbformat_minor": 0,
  "metadata": {
    "colab": {
      "name": "HW4 P3 Part 1.ipynb",
      "provenance": [],
      "collapsed_sections": [],
      "include_colab_link": true
    },
    "kernelspec": {
      "name": "python3",
      "display_name": "Python 3"
    },
    "accelerator": "GPU"
  },
  "cells": [
    {
      "cell_type": "markdown",
      "metadata": {
        "id": "view-in-github",
        "colab_type": "text"
      },
      "source": [
        "<a href=\"https://colab.research.google.com/github/kboyles8/CAP4630/blob/master/HW_4/HW4_P3_Part_1.ipynb\" target=\"_parent\"><img src=\"https://colab.research.google.com/assets/colab-badge.svg\" alt=\"Open In Colab\"/></a>"
      ]
    },
    {
      "cell_type": "markdown",
      "metadata": {
        "id": "KSrgMJ5vKFzQ",
        "colab_type": "text"
      },
      "source": [
        "# Problem 3: Part 1"
      ]
    },
    {
      "cell_type": "markdown",
      "metadata": {
        "id": "TIW7bZaAK-Hf",
        "colab_type": "text"
      },
      "source": [
        "In this problem, the notebook https://colab.research.google.com/drive/1F-RWvoxH8MmT7c1UmNy41iuOp-ejiLoF is modified to use the DenseNet121 convolutional neural network instead.\n",
        "\n",
        "For Part 1, the binary classification method is used. This was the method used in the original notebook."
      ]
    },
    {
      "cell_type": "markdown",
      "metadata": {
        "id": "nsBq__dVo2pj",
        "colab_type": "text"
      },
      "source": [
        "## Feature extraction"
      ]
    },
    {
      "cell_type": "markdown",
      "metadata": {
        "id": "0g6ETAM9o54M",
        "colab_type": "text"
      },
      "source": [
        "Feature extraction consists of using the representations learned by a previous network to extract interesting features from new samples. These features are then run through a new classifier, which is trained from scratch.\n",
        "\n",
        "We will use here the convolutional base of the DenseNet121 model to extract the features. We will feed these features to a densely connected classifier with dropout. We will fine-tune some layers."
      ]
    },
    {
      "cell_type": "markdown",
      "metadata": {
        "id": "AxnDUIOiL4Qf",
        "colab_type": "text"
      },
      "source": [
        "## Use Tensorflow 2.0"
      ]
    },
    {
      "cell_type": "code",
      "metadata": {
        "id": "wr2-zhL6L31m",
        "colab_type": "code",
        "colab": {}
      },
      "source": [
        "%tensorflow_version 2.x\n",
        "import tensorflow as tf"
      ],
      "execution_count": 0,
      "outputs": []
    },
    {
      "cell_type": "markdown",
      "metadata": {
        "id": "BqIG8QHMLNOn",
        "colab_type": "text"
      },
      "source": [
        "## Download the data"
      ]
    },
    {
      "cell_type": "markdown",
      "metadata": {
        "id": "t3I1jd7cKV6_",
        "colab_type": "text"
      },
      "source": [
        "Download the example data, a zip. of 2,000 JPG pictures of cats and dogs and extract it locally in ```/tmp```.\n",
        "\n"
      ]
    },
    {
      "cell_type": "code",
      "metadata": {
        "id": "JWjprHEXJ5Qi",
        "colab_type": "code",
        "outputId": "6f561e6c-95b7-4d3a-a4a5-e1d8bf54825a",
        "colab": {
          "base_uri": "https://localhost:8080/",
          "height": 219
        }
      },
      "source": [
        "!wget --no-check-certificate \\\n",
        "    https://storage.googleapis.com/mledu-datasets/cats_and_dogs_filtered.zip \\\n",
        "    -O /tmp/cats_and_dogs_filtered.zip"
      ],
      "execution_count": 2,
      "outputs": [
        {
          "output_type": "stream",
          "text": [
            "--2020-04-08 22:38:58--  https://storage.googleapis.com/mledu-datasets/cats_and_dogs_filtered.zip\n",
            "Resolving storage.googleapis.com (storage.googleapis.com)... 108.177.119.128, 2a00:1450:4013:c08::80\n",
            "Connecting to storage.googleapis.com (storage.googleapis.com)|108.177.119.128|:443... connected.\n",
            "HTTP request sent, awaiting response... 200 OK\n",
            "Length: 68606236 (65M) [application/zip]\n",
            "Saving to: ‘/tmp/cats_and_dogs_filtered.zip’\n",
            "\n",
            "/tmp/cats_and_dogs_ 100%[===================>]  65.43M  72.8MB/s    in 0.9s    \n",
            "\n",
            "2020-04-08 22:38:59 (72.8 MB/s) - ‘/tmp/cats_and_dogs_filtered.zip’ saved [68606236/68606236]\n",
            "\n"
          ],
          "name": "stdout"
        }
      ]
    },
    {
      "cell_type": "code",
      "metadata": {
        "id": "WvoHtdA-K6Rw",
        "colab_type": "code",
        "colab": {}
      },
      "source": [
        "import os\n",
        "import zipfile\n",
        "\n",
        "local_zip = '/tmp/cats_and_dogs_filtered.zip'\n",
        "zip_ref = zipfile.ZipFile(local_zip, 'r')\n",
        "zip_ref.extractall('/tmp')\n",
        "zip_ref.close()"
      ],
      "execution_count": 0,
      "outputs": []
    },
    {
      "cell_type": "markdown",
      "metadata": {
        "id": "shZiOBnJMyy_",
        "colab_type": "text"
      },
      "source": [
        "Note that the data provided by Google does not have a test set."
      ]
    },
    {
      "cell_type": "code",
      "metadata": {
        "id": "dL8ikM89LlsH",
        "colab_type": "code",
        "colab": {}
      },
      "source": [
        "base_dir = '/tmp/cats_and_dogs_filtered'\n",
        "train_dir = os.path.join(base_dir, 'train')\n",
        "validation_dir = os.path.join(base_dir, 'validation')\n",
        "\n",
        "# Directory with our training cat pictures\n",
        "train_cats_dir = os.path.join(train_dir, 'cats')\n",
        "\n",
        "# Directory with our training dog pictures\n",
        "train_dogs_dir = os.path.join(train_dir, 'dogs')\n",
        "\n",
        "# Directory with our validation cat pictures\n",
        "validation_cats_dir = os.path.join(validation_dir, 'cats')\n",
        "\n",
        "# Directory with our validation dog pictures\n",
        "validation_dogs_dir = os.path.join(validation_dir, 'dogs')"
      ],
      "execution_count": 0,
      "outputs": []
    },
    {
      "cell_type": "markdown",
      "metadata": {
        "id": "inyP8bcdXnn-",
        "colab_type": "text"
      },
      "source": [
        "## Build network with DenseNet121 convolution base and custom densely connected layers"
      ]
    },
    {
      "cell_type": "markdown",
      "metadata": {
        "id": "kQ48W5T9rHWu",
        "colab_type": "text"
      },
      "source": [
        "### Load the convolutional base"
      ]
    },
    {
      "cell_type": "code",
      "metadata": {
        "id": "Y0FgtANCXm_H",
        "colab_type": "code",
        "colab": {}
      },
      "source": [
        "from tensorflow.keras.applications import DenseNet121\n",
        "\n",
        "conv_base = DenseNet121(\n",
        "    weights='imagenet', \n",
        "    include_top=False, \n",
        "    input_shape=(150, 150, 3))"
      ],
      "execution_count": 0,
      "outputs": []
    },
    {
      "cell_type": "markdown",
      "metadata": {
        "id": "D6OBHOO9q1ou",
        "colab_type": "text"
      },
      "source": [
        "### Freeze the convolutional base"
      ]
    },
    {
      "cell_type": "code",
      "metadata": {
        "id": "UleRo4Dpq6Ld",
        "colab_type": "code",
        "colab": {}
      },
      "source": [
        "conv_base.trainable = False"
      ],
      "execution_count": 0,
      "outputs": []
    },
    {
      "cell_type": "markdown",
      "metadata": {
        "id": "Qfx6PqhPrb7Q",
        "colab_type": "text"
      },
      "source": [
        "### Concatenate the convolutional base and densely connected layers"
      ]
    },
    {
      "cell_type": "code",
      "metadata": {
        "id": "qUpmocDAO3xm",
        "colab_type": "code",
        "colab": {}
      },
      "source": [
        "from tensorflow.keras import layers\n",
        "from tensorflow.keras import models\n",
        "from tensorflow.keras import optimizers\n",
        "\n",
        "model = models.Sequential()\n",
        "model.add(conv_base)\n",
        "model.add(layers.Flatten())\n",
        "model.add(layers.Dense(256, activation='relu'))\n",
        "model.add(layers.Dropout(0.1))\n",
        "model.add(layers.Dense(1, activation='sigmoid'))"
      ],
      "execution_count": 0,
      "outputs": []
    },
    {
      "cell_type": "code",
      "metadata": {
        "id": "Fh6gZSeAjF7c",
        "colab_type": "code",
        "colab": {
          "base_uri": "https://localhost:8080/",
          "height": 348
        },
        "outputId": "7212847d-56bd-497a-a420-c7fdfa1b4d98"
      },
      "source": [
        "model.summary()"
      ],
      "execution_count": 8,
      "outputs": [
        {
          "output_type": "stream",
          "text": [
            "Model: \"sequential\"\n",
            "_________________________________________________________________\n",
            "Layer (type)                 Output Shape              Param #   \n",
            "=================================================================\n",
            "densenet121 (Model)          (None, 4, 4, 1024)        7037504   \n",
            "_________________________________________________________________\n",
            "flatten (Flatten)            (None, 16384)             0         \n",
            "_________________________________________________________________\n",
            "dense (Dense)                (None, 256)               4194560   \n",
            "_________________________________________________________________\n",
            "dropout (Dropout)            (None, 256)               0         \n",
            "_________________________________________________________________\n",
            "dense_1 (Dense)              (None, 1)                 257       \n",
            "=================================================================\n",
            "Total params: 11,232,321\n",
            "Trainable params: 4,194,817\n",
            "Non-trainable params: 7,037,504\n",
            "_________________________________________________________________\n"
          ],
          "name": "stdout"
        }
      ]
    },
    {
      "cell_type": "markdown",
      "metadata": {
        "id": "eZjBiddhi5Qj",
        "colab_type": "text"
      },
      "source": [
        "## Train the model end to end with frozen convolutional base"
      ]
    },
    {
      "cell_type": "code",
      "metadata": {
        "id": "tfAQlC2Oi41L",
        "colab_type": "code",
        "colab": {
          "base_uri": "https://localhost:8080/",
          "height": 1000
        },
        "outputId": "a60f55f3-5c43-4f6e-dacc-ee5c8cc4867b"
      },
      "source": [
        "from tensorflow.keras.preprocessing.image import ImageDataGenerator\n",
        "from tensorflow.keras import optimizers\n",
        "\n",
        "# data augmentation\n",
        "\n",
        "train_datagen = ImageDataGenerator(\n",
        "    rescale=1./255, \n",
        "    rotation_range=40,\n",
        "    width_shift_range=0.2,\n",
        "    height_shift_range=0.2,\n",
        "    shear_range=0.2,\n",
        "    zoom_range=0.2,\n",
        "    horizontal_flip=True,\n",
        "    fill_mode='nearest'\n",
        ")\n",
        "\n",
        "train_generator = train_datagen.flow_from_directory(\n",
        "    train_dir,\n",
        "    target_size=(150, 150),\n",
        "    batch_size=20,\n",
        "    class_mode='binary')\n",
        "\n",
        "validation_datagen = ImageDataGenerator(rescale=1./255)\n",
        "\n",
        "validation_generator = validation_datagen.flow_from_directory(\n",
        "    validation_dir,\n",
        "    target_size=(150, 150),\n",
        "    batch_size=20,\n",
        "    class_mode='binary')\n",
        "\n",
        "# compile model\n",
        "\n",
        "model.compile(\n",
        "    loss='binary_crossentropy', \n",
        "    optimizer=optimizers.RMSprop(lr=2e-5), \n",
        "    metrics=['acc'])\n",
        "\n",
        "# train\n",
        "\n",
        "history = model.fit(\n",
        "    train_generator,\n",
        "    steps_per_epoch=100,\n",
        "    epochs=30,\n",
        "    validation_data=validation_generator,\n",
        "    validation_steps=50\n",
        ")"
      ],
      "execution_count": 9,
      "outputs": [
        {
          "output_type": "stream",
          "text": [
            "Found 2000 images belonging to 2 classes.\n",
            "Found 1000 images belonging to 2 classes.\n",
            "Epoch 1/30\n",
            "100/100 [==============================] - 20s 199ms/step - loss: 0.3055 - acc: 0.8800 - val_loss: 0.1244 - val_acc: 0.9490\n",
            "Epoch 2/30\n",
            "100/100 [==============================] - 19s 189ms/step - loss: 0.1915 - acc: 0.9225 - val_loss: 0.0933 - val_acc: 0.9620\n",
            "Epoch 3/30\n",
            "100/100 [==============================] - 19s 186ms/step - loss: 0.1936 - acc: 0.9145 - val_loss: 0.0829 - val_acc: 0.9660\n",
            "Epoch 4/30\n",
            "100/100 [==============================] - 18s 183ms/step - loss: 0.1672 - acc: 0.9370 - val_loss: 0.0537 - val_acc: 0.9750\n",
            "Epoch 5/30\n",
            "100/100 [==============================] - 18s 184ms/step - loss: 0.1394 - acc: 0.9405 - val_loss: 0.0918 - val_acc: 0.9610\n",
            "Epoch 6/30\n",
            "100/100 [==============================] - 18s 182ms/step - loss: 0.1328 - acc: 0.9440 - val_loss: 0.0841 - val_acc: 0.9680\n",
            "Epoch 7/30\n",
            "100/100 [==============================] - 18s 181ms/step - loss: 0.1242 - acc: 0.9415 - val_loss: 0.0650 - val_acc: 0.9730\n",
            "Epoch 8/30\n",
            "100/100 [==============================] - 18s 180ms/step - loss: 0.1392 - acc: 0.9450 - val_loss: 0.0681 - val_acc: 0.9710\n",
            "Epoch 9/30\n",
            "100/100 [==============================] - 18s 182ms/step - loss: 0.1239 - acc: 0.9515 - val_loss: 0.0567 - val_acc: 0.9760\n",
            "Epoch 10/30\n",
            "100/100 [==============================] - 18s 181ms/step - loss: 0.1240 - acc: 0.9495 - val_loss: 0.0693 - val_acc: 0.9660\n",
            "Epoch 11/30\n",
            "100/100 [==============================] - 18s 184ms/step - loss: 0.1047 - acc: 0.9570 - val_loss: 0.0606 - val_acc: 0.9710\n",
            "Epoch 12/30\n",
            "100/100 [==============================] - 18s 181ms/step - loss: 0.1113 - acc: 0.9530 - val_loss: 0.0921 - val_acc: 0.9680\n",
            "Epoch 13/30\n",
            "100/100 [==============================] - 18s 183ms/step - loss: 0.1102 - acc: 0.9570 - val_loss: 0.0568 - val_acc: 0.9790\n",
            "Epoch 14/30\n",
            "100/100 [==============================] - 18s 183ms/step - loss: 0.1115 - acc: 0.9550 - val_loss: 0.0960 - val_acc: 0.9650\n",
            "Epoch 15/30\n",
            "100/100 [==============================] - 18s 181ms/step - loss: 0.1118 - acc: 0.9540 - val_loss: 0.1201 - val_acc: 0.9620\n",
            "Epoch 16/30\n",
            "100/100 [==============================] - 18s 181ms/step - loss: 0.0960 - acc: 0.9650 - val_loss: 0.0631 - val_acc: 0.9750\n",
            "Epoch 17/30\n",
            "100/100 [==============================] - 18s 180ms/step - loss: 0.0905 - acc: 0.9630 - val_loss: 0.0793 - val_acc: 0.9740\n",
            "Epoch 18/30\n",
            "100/100 [==============================] - 18s 180ms/step - loss: 0.0873 - acc: 0.9645 - val_loss: 0.0609 - val_acc: 0.9740\n",
            "Epoch 19/30\n",
            "100/100 [==============================] - 18s 179ms/step - loss: 0.0895 - acc: 0.9635 - val_loss: 0.0701 - val_acc: 0.9740\n",
            "Epoch 20/30\n",
            "100/100 [==============================] - 18s 181ms/step - loss: 0.0880 - acc: 0.9600 - val_loss: 0.0626 - val_acc: 0.9800\n",
            "Epoch 21/30\n",
            "100/100 [==============================] - 18s 178ms/step - loss: 0.1000 - acc: 0.9585 - val_loss: 0.0643 - val_acc: 0.9760\n",
            "Epoch 22/30\n",
            "100/100 [==============================] - 18s 182ms/step - loss: 0.0893 - acc: 0.9665 - val_loss: 0.0823 - val_acc: 0.9700\n",
            "Epoch 23/30\n",
            "100/100 [==============================] - 18s 179ms/step - loss: 0.0932 - acc: 0.9610 - val_loss: 0.0912 - val_acc: 0.9670\n",
            "Epoch 24/30\n",
            "100/100 [==============================] - 18s 180ms/step - loss: 0.0847 - acc: 0.9660 - val_loss: 0.0748 - val_acc: 0.9700\n",
            "Epoch 25/30\n",
            "100/100 [==============================] - 18s 180ms/step - loss: 0.0731 - acc: 0.9720 - val_loss: 0.0691 - val_acc: 0.9710\n",
            "Epoch 26/30\n",
            "100/100 [==============================] - 18s 181ms/step - loss: 0.0878 - acc: 0.9665 - val_loss: 0.0873 - val_acc: 0.9660\n",
            "Epoch 27/30\n",
            "100/100 [==============================] - 18s 180ms/step - loss: 0.0751 - acc: 0.9705 - val_loss: 0.0655 - val_acc: 0.9750\n",
            "Epoch 28/30\n",
            "100/100 [==============================] - 18s 182ms/step - loss: 0.0837 - acc: 0.9700 - val_loss: 0.1263 - val_acc: 0.9560\n",
            "Epoch 29/30\n",
            "100/100 [==============================] - 18s 181ms/step - loss: 0.0720 - acc: 0.9665 - val_loss: 0.0588 - val_acc: 0.9760\n",
            "Epoch 30/30\n",
            "100/100 [==============================] - 18s 179ms/step - loss: 0.0877 - acc: 0.9650 - val_loss: 0.0788 - val_acc: 0.9690\n"
          ],
          "name": "stdout"
        }
      ]
    },
    {
      "cell_type": "markdown",
      "metadata": {
        "id": "xqRc_vHKc92U",
        "colab_type": "text"
      },
      "source": [
        "## Display curves of loss and accuracy during training"
      ]
    },
    {
      "cell_type": "code",
      "metadata": {
        "id": "ybWwdzz9bwuQ",
        "colab_type": "code",
        "colab": {
          "base_uri": "https://localhost:8080/",
          "height": 545
        },
        "outputId": "d556b2d4-881f-4d21-d1d2-b0430d6fefba"
      },
      "source": [
        "%matplotlib inline\n",
        "\n",
        "import matplotlib.pyplot as plt\n",
        "\n",
        "acc = history.history['acc']\n",
        "val_acc = history.history['val_acc']\n",
        "\n",
        "loss = history.history['loss']\n",
        "val_loss = history.history['val_loss']\n",
        "\n",
        "epochs = range(1, len(acc) + 1)\n",
        "\n",
        "# training and validation accuracy\n",
        "\n",
        "plt.plot(epochs, acc, 'bo', label='training acc')\n",
        "plt.plot(epochs, val_acc, 'b', label='validation acc')\n",
        "plt.title('training and validation accuracy')\n",
        "plt.legend()\n",
        "\n",
        "plt.figure()\n",
        "\n",
        "# training and validation loss\n",
        "\n",
        "plt.plot(epochs, loss, 'bo', label='training loss')\n",
        "plt.plot(epochs, val_loss, 'b', label='validation loss')\n",
        "plt.title('training and validation loss')\n",
        "plt.legend()\n",
        "\n",
        "plt.show()"
      ],
      "execution_count": 10,
      "outputs": [
        {
          "output_type": "display_data",
          "data": {
            "image/png": "[encoded data removed]",
            "text/plain": [
              "<Figure size 432x288 with 1 Axes>"
            ]
          },
          "metadata": {
            "tags": []
          }
        },
        {
          "output_type": "display_data",
          "data": {
            "image/png": "[encoded data removed]",
            "text/plain": [
              "<Figure size 432x288 with 1 Axes>"
            ]
          },
          "metadata": {
            "tags": []
          }
        }
      ]
    },
    {
      "cell_type": "markdown",
      "metadata": {
        "id": "lOWsxpey8lN0",
        "colab_type": "text"
      },
      "source": [
        "## Fine-tuning"
      ]
    },
    {
      "cell_type": "markdown",
      "metadata": {
        "id": "OHorsI1r24Ga",
        "colab_type": "text"
      },
      "source": [
        "Fine-tuning has been modified to unfreeze the layer `conv5_block1_0_bn`, and all following layers."
      ]
    },
    {
      "cell_type": "code",
      "metadata": {
        "id": "PwkVMx8N8qMw",
        "colab_type": "code",
        "colab": {}
      },
      "source": [
        "conv_base.trainable = True\n",
        "\n",
        "set_trainable = False\n",
        "for layer in conv_base.layers:\n",
        "    if layer.name == 'conv5_block1_0_bn':\n",
        "        set_trainable = True\n",
        "    if set_trainable:\n",
        "        layer.trainable = True\n",
        "    else:\n",
        "        layer.trainable = False"
      ],
      "execution_count": 0,
      "outputs": []
    },
    {
      "cell_type": "code",
      "metadata": {
        "id": "DyN-J7rs9cvo",
        "colab_type": "code",
        "colab": {
          "base_uri": "https://localhost:8080/",
          "height": 1000
        },
        "outputId": "aa34acb8-6084-491b-9b94-37f2d3f1bb9c"
      },
      "source": [
        "# compile model\n",
        "\n",
        "model.compile(\n",
        "    loss='binary_crossentropy',\n",
        "    #\n",
        "    # choose a smaller learning rate\n",
        "    #\n",
        "    optimizer=optimizers.RMSprop(lr=1e-5), \n",
        "    metrics=['acc'])\n",
        "\n",
        "# train\n",
        "\n",
        "history = model.fit(\n",
        "    train_generator,\n",
        "    steps_per_epoch=100,\n",
        "    epochs=30,\n",
        "    validation_data=validation_generator,\n",
        "    validation_steps=50)"
      ],
      "execution_count": 12,
      "outputs": [
        {
          "output_type": "stream",
          "text": [
            "WARNING:tensorflow:From <ipython-input-12-0d5207422494>:17: Model.fit_generator (from tensorflow.python.keras.engine.training) is deprecated and will be removed in a future version.\n",
            "Instructions for updating:\n",
            "Please use Model.fit, which supports generators.\n",
            "Epoch 1/30\n",
            "100/100 [==============================] - 20s 197ms/step - loss: 0.1561 - acc: 0.9395 - val_loss: 0.0662 - val_acc: 0.9700\n",
            "Epoch 2/30\n",
            "100/100 [==============================] - 18s 183ms/step - loss: 0.1520 - acc: 0.9355 - val_loss: 0.0694 - val_acc: 0.9720\n",
            "Epoch 3/30\n",
            "100/100 [==============================] - 18s 185ms/step - loss: 0.1395 - acc: 0.9445 - val_loss: 0.0713 - val_acc: 0.9650\n",
            "Epoch 4/30\n",
            "100/100 [==============================] - 18s 182ms/step - loss: 0.1536 - acc: 0.9380 - val_loss: 0.0611 - val_acc: 0.9700\n",
            "Epoch 5/30\n",
            "100/100 [==============================] - 19s 185ms/step - loss: 0.1428 - acc: 0.9440 - val_loss: 0.0548 - val_acc: 0.9760\n",
            "Epoch 6/30\n",
            "100/100 [==============================] - 18s 182ms/step - loss: 0.1237 - acc: 0.9460 - val_loss: 0.0682 - val_acc: 0.9740\n",
            "Epoch 7/30\n",
            "100/100 [==============================] - 18s 183ms/step - loss: 0.1093 - acc: 0.9575 - val_loss: 0.0599 - val_acc: 0.9770\n",
            "Epoch 8/30\n",
            "100/100 [==============================] - 19s 185ms/step - loss: 0.1210 - acc: 0.9570 - val_loss: 0.0498 - val_acc: 0.9760\n",
            "Epoch 9/30\n",
            "100/100 [==============================] - 19s 187ms/step - loss: 0.1069 - acc: 0.9535 - val_loss: 0.0740 - val_acc: 0.9650\n",
            "Epoch 10/30\n",
            "100/100 [==============================] - 19s 185ms/step - loss: 0.1080 - acc: 0.9600 - val_loss: 0.0677 - val_acc: 0.9720\n",
            "Epoch 11/30\n",
            "100/100 [==============================] - 19s 188ms/step - loss: 0.1048 - acc: 0.9560 - val_loss: 0.0524 - val_acc: 0.9780\n",
            "Epoch 12/30\n",
            "100/100 [==============================] - 19s 187ms/step - loss: 0.1017 - acc: 0.9605 - val_loss: 0.0684 - val_acc: 0.9690\n",
            "Epoch 13/30\n",
            "100/100 [==============================] - 18s 183ms/step - loss: 0.0965 - acc: 0.9645 - val_loss: 0.0656 - val_acc: 0.9680\n",
            "Epoch 14/30\n",
            "100/100 [==============================] - 18s 182ms/step - loss: 0.1025 - acc: 0.9555 - val_loss: 0.0636 - val_acc: 0.9760\n",
            "Epoch 15/30\n",
            "100/100 [==============================] - 18s 185ms/step - loss: 0.0921 - acc: 0.9650 - val_loss: 0.0584 - val_acc: 0.9800\n",
            "Epoch 16/30\n",
            "100/100 [==============================] - 19s 186ms/step - loss: 0.0907 - acc: 0.9645 - val_loss: 0.0698 - val_acc: 0.9670\n",
            "Epoch 17/30\n",
            "100/100 [==============================] - 18s 183ms/step - loss: 0.0852 - acc: 0.9680 - val_loss: 0.0726 - val_acc: 0.9660\n",
            "Epoch 18/30\n",
            "100/100 [==============================] - 18s 183ms/step - loss: 0.1060 - acc: 0.9610 - val_loss: 0.0659 - val_acc: 0.9730\n",
            "Epoch 19/30\n",
            "100/100 [==============================] - 18s 183ms/step - loss: 0.0811 - acc: 0.9715 - val_loss: 0.0568 - val_acc: 0.9790\n",
            "Epoch 20/30\n",
            "100/100 [==============================] - 18s 185ms/step - loss: 0.0719 - acc: 0.9715 - val_loss: 0.0545 - val_acc: 0.9780\n",
            "Epoch 21/30\n",
            "100/100 [==============================] - 18s 183ms/step - loss: 0.0888 - acc: 0.9670 - val_loss: 0.0817 - val_acc: 0.9600\n",
            "Epoch 22/30\n",
            "100/100 [==============================] - 18s 182ms/step - loss: 0.0922 - acc: 0.9620 - val_loss: 0.0627 - val_acc: 0.9720\n",
            "Epoch 23/30\n",
            "100/100 [==============================] - 18s 182ms/step - loss: 0.0701 - acc: 0.9740 - val_loss: 0.0907 - val_acc: 0.9610\n",
            "Epoch 24/30\n",
            "100/100 [==============================] - 18s 183ms/step - loss: 0.0893 - acc: 0.9695 - val_loss: 0.0620 - val_acc: 0.9760\n",
            "Epoch 25/30\n",
            "100/100 [==============================] - 18s 184ms/step - loss: 0.0767 - acc: 0.9690 - val_loss: 0.0766 - val_acc: 0.9650\n",
            "Epoch 26/30\n",
            "100/100 [==============================] - 18s 183ms/step - loss: 0.0865 - acc: 0.9640 - val_loss: 0.0609 - val_acc: 0.9790\n",
            "Epoch 27/30\n",
            "100/100 [==============================] - 18s 182ms/step - loss: 0.0823 - acc: 0.9685 - val_loss: 0.0558 - val_acc: 0.9780\n",
            "Epoch 28/30\n",
            "100/100 [==============================] - 18s 181ms/step - loss: 0.0760 - acc: 0.9665 - val_loss: 0.0531 - val_acc: 0.9760\n",
            "Epoch 29/30\n",
            "100/100 [==============================] - 19s 185ms/step - loss: 0.0672 - acc: 0.9765 - val_loss: 0.0598 - val_acc: 0.9740\n",
            "Epoch 30/30\n",
            "100/100 [==============================] - 18s 181ms/step - loss: 0.0765 - acc: 0.9735 - val_loss: 0.0545 - val_acc: 0.9820\n"
          ],
          "name": "stdout"
        }
      ]
    },
    {
      "cell_type": "markdown",
      "metadata": {
        "id": "eVBQgh5M-Rtz",
        "colab_type": "text"
      },
      "source": [
        "## Display learning curves during fine-tuning"
      ]
    },
    {
      "cell_type": "code",
      "metadata": {
        "id": "mbkIw7Ie-NP4",
        "colab_type": "code",
        "colab": {
          "base_uri": "https://localhost:8080/",
          "height": 545
        },
        "outputId": "a7b23515-7bb4-4810-9c2e-ccc533b15cfd"
      },
      "source": [
        "%matplotlib inline\n",
        "\n",
        "import matplotlib.pyplot as plt\n",
        "\n",
        "acc = history.history['acc']\n",
        "val_acc = history.history['val_acc']\n",
        "\n",
        "loss = history.history['loss']\n",
        "val_loss = history.history['val_loss']\n",
        "\n",
        "epochs = range(1, len(acc) + 1)\n",
        "\n",
        "# training and validation accuracy\n",
        "\n",
        "plt.plot(epochs, acc, 'bo', label='training acc')\n",
        "plt.plot(epochs, val_acc, 'b', label='validation acc')\n",
        "plt.title('training and validation accuracy')\n",
        "plt.legend()\n",
        "\n",
        "plt.figure()\n",
        "\n",
        "# training and validation loss\n",
        "\n",
        "plt.plot(epochs, loss, 'bo', label='training loss')\n",
        "plt.plot(epochs, val_loss, 'b', label='validation loss')\n",
        "plt.title('training and validation loss')\n",
        "plt.legend()\n",
        "\n",
        "plt.show()"
      ],
      "execution_count": 13,
      "outputs": [
        {
          "output_type": "display_data",
          "data": {
            "image/png": "[encoded data removed]",
            "text/plain": [
              "<Figure size 432x288 with 1 Axes>"
            ]
          },
          "metadata": {
            "tags": []
          }
        },
        {
          "output_type": "display_data",
          "data": {
            "image/png": "[encoded data removed]",
            "text/plain": [
              "<Figure size 432x288 with 1 Axes>"
            ]
          },
          "metadata": {
            "tags": []
          }
        }
      ]
    },
    {
      "cell_type": "markdown",
      "metadata": {
        "id": "he3Nw6TOJwjx",
        "colab_type": "text"
      },
      "source": [
        "## Print out validation loss and accuracy"
      ]
    },
    {
      "cell_type": "code",
      "metadata": {
        "id": "SVQtrk7uJdhl",
        "colab_type": "code",
        "colab": {
          "base_uri": "https://localhost:8080/",
          "height": 35
        },
        "outputId": "c42905bd-6f92-4970-8218-90917dc45cfd"
      },
      "source": [
        "val_loss, val_acc = model.evaluate(validation_generator, steps=50)"
      ],
      "execution_count": 14,
      "outputs": [
        {
          "output_type": "stream",
          "text": [
            "50/50 [==============================] - 3s 61ms/step - loss: 0.0502 - acc: 0.9810\n"
          ],
          "name": "stdout"
        }
      ]
    },
    {
      "cell_type": "code",
      "metadata": {
        "id": "HpdddLi1SUMe",
        "colab_type": "code",
        "colab": {
          "base_uri": "https://localhost:8080/",
          "height": 54
        },
        "outputId": "832042e7-e9e9-44f7-bc13-b682dafe6271"
      },
      "source": [
        "print(\"Validation loss:\", val_loss)\n",
        "print(\"Validation accuracy:\", val_acc)"
      ],
      "execution_count": 15,
      "outputs": [
        {
          "output_type": "stream",
          "text": [
            "Validation loss: 0.05018634721636772\n",
            "Validation accuracy: 0.9810000061988831\n"
          ],
          "name": "stdout"
        }
      ]
    }
  ]
}