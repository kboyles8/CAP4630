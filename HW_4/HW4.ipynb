{
  "nbformat": 4,
  "nbformat_minor": 0,
  "metadata": {
    "colab": {
      "name": "HW4.ipynb",
      "provenance": [],
      "collapsed_sections": [],
      "include_colab_link": true
    },
    "kernelspec": {
      "name": "python3",
      "display_name": "Python 3"
    }
  },
  "cells": [
    {
      "cell_type": "markdown",
      "metadata": {
        "id": "view-in-github",
        "colab_type": "text"
      },
      "source": [
        "<a href=\"https://colab.research.google.com/github/kboyles8/CAP4630/blob/master/HW_4/HW4.ipynb\" target=\"_parent\"><img src=\"https://colab.research.google.com/assets/colab-badge.svg\" alt=\"Open In Colab\"/></a>"
      ]
    },
    {
      "cell_type": "markdown",
      "metadata": {
        "id": "hUYLsseimSS3",
        "colab_type": "text"
      },
      "source": [
        "# Problem 1"
      ]
    },
    {
      "cell_type": "markdown",
      "metadata": {
        "id": "Fu1M78E4mTxk",
        "colab_type": "text"
      },
      "source": [
        "In this problem, the `conv2d` function is implemented from scratch using numpy. This function takes in the input and kernel array and outputs the convolution array.\n",
        "\n",
        "The process starts in the top left corner of the input array. The kernel is multiplied into a section of the input array equal to its size, and the resulting matrix is summed and placed into position (0, 0) in the output array. The kernel is then shifted right by one, and the process continues until the end of the input array is reached. The kernel moves to the next row and continues."
      ]
    },
    {
      "cell_type": "markdown",
      "metadata": {
        "id": "3ZzyW_FIuQ0g",
        "colab_type": "text"
      },
      "source": [
        "## Initial Setup"
      ]
    },
    {
      "cell_type": "code",
      "metadata": {
        "id": "wKxD78zUuRSa",
        "colab_type": "code",
        "colab": {}
      },
      "source": [
        "import numpy as np"
      ],
      "execution_count": 0,
      "outputs": []
    },
    {
      "cell_type": "markdown",
      "metadata": {
        "id": "ClK6t3NpuKly",
        "colab_type": "text"
      },
      "source": [
        "## Define the Function"
      ]
    },
    {
      "cell_type": "code",
      "metadata": {
        "id": "W2In_kZDuJxr",
        "colab_type": "code",
        "colab": {}
      },
      "source": [
        "\"\"\"\n",
        "Calculates the 2D convolution of input_mat using kernel_mat as a filter.\n",
        "input_mat and kernel_mat must be square matrices.\n",
        "The kernel cannot be larger than the input.\n",
        "\"\"\"\n",
        "def conv2d(input_mat: np.array, kernel_mat: np.array) -> np.array:\n",
        "    if (input_mat.shape[0] != input_mat.shape[1]):\n",
        "        raise ValueError(\"The input matrix must be square\")\n",
        "    if (kernel_mat.shape[0] != kernel_mat.shape[1]):\n",
        "        raise ValueError(\"The kernel matrix must be square\")\n",
        "\n",
        "    input_size = input_mat.shape[0]\n",
        "    kernel_size = kernel_mat.shape[0]\n",
        "\n",
        "    if kernel_size > input_size:\n",
        "        raise ValueError(\"The kernel cannot be larger than the input\")\n",
        "\n",
        "    # Calculate the size of the output array\n",
        "    output_size = input_size - kernel_size + 1\n",
        "\n",
        "    # Create output array\n",
        "    output_mat = np.zeros((output_size, output_size))\n",
        "\n",
        "    # Colvolve\n",
        "    for y_pos in range(output_size):\n",
        "        for x_pos in range(output_size):\n",
        "            # Apply kernel and sum\n",
        "            output_mat[y_pos][x_pos] = np.sum(input_mat[y_pos:y_pos+kernel_size, x_pos:x_pos+kernel_size] * kernel_mat)\n",
        "\n",
        "    return output_mat"
      ],
      "execution_count": 0,
      "outputs": []
    },
    {
      "cell_type": "markdown",
      "metadata": {
        "id": "cIO-s2_A7hsd",
        "colab_type": "text"
      },
      "source": [
        "## Test the Function"
      ]
    },
    {
      "cell_type": "code",
      "metadata": {
        "id": "BvIMGhjfYiPk",
        "colab_type": "code",
        "colab": {
          "base_uri": "https://localhost:8080/",
          "height": 513
        },
        "outputId": "d3bf9d98-0494-4362-abe8-50e1819c1774"
      },
      "source": [
        "import numpy as np\n",
        "\n",
        "input_mat = []\n",
        "kernel_mat = []\n",
        "expected_mat = []\n",
        "\n",
        "# test case 1\n",
        "input_mat.append(np.array([[1, 2, 1, 2],\n",
        "                           [2, 1, 2, 1],\n",
        "                           [1, 2, 1, 2],\n",
        "                           [2, 1, 2, 1]]))\n",
        "\n",
        "kernel_mat.append(np.array([[1, 0],\n",
        "                            [0, 1]]))\n",
        "\n",
        "expected_mat.append(np.array([[2, 4, 2],\n",
        "                              [4, 2, 4],\n",
        "                              [2, 4, 2]]))\n",
        "\n",
        "# test case 2\n",
        "input_mat.append(np.array([[1, 0, 0, 0],\n",
        "                           [0, 1, 0, 0],\n",
        "                           [0, 0, 1, 0],\n",
        "                           [0, 0, 0, 1]]))\n",
        "kernel_mat.append(np.array([[1, 0], [0, 1]]))\n",
        "expected_mat.append(np.array([[2, 0, 0], [0, 2, 0], [0, 0, 2]]))\n",
        "\n",
        "\n",
        "# test case 3\n",
        "input_mat.append(np.array([[1, 0, 0, 0],\n",
        "                           [0, 1, 0, 0],\n",
        "                           [0, 0, 1, 0],\n",
        "                           [0, 0, 0, 1]]))\n",
        "\n",
        "kernel_mat.append(np.array([[1, -1],\n",
        "                            [-1, 0]]))\n",
        "\n",
        "expected_mat.append(np.array([[ 1, -1,  0], [-1,  1, -1],[ 0, -1,  1]]))\n",
        "\n",
        "\n",
        "# test case 4\n",
        "input_mat.append(np.array([[1, 0, 0, 0],\n",
        "                           [0, 1, 0, 0],\n",
        "                           [0, 0, 1, 0],\n",
        "                           [0, 0, 0, 1]]))\n",
        "\n",
        "kernel_mat.append(np.array([[1, 0, 0, 0],\n",
        "                            [0, 1, 0, 0],\n",
        "                            [0, 0, 1, 0],\n",
        "                            [0, 0, 0, 1]]))\n",
        "\n",
        "expected_mat.append(np.array([[4]]))\n",
        "\n",
        "\n",
        "# test case 5 - should throw an error due to the kernel being larger than the input\n",
        "input_mat.append(np.array([[1, -1],\n",
        "                           [-1, 0]]))\n",
        "\n",
        "kernel_mat.append(np.array([[1, 0, 0, 0],\n",
        "                            [0, 1, 0, 0],\n",
        "                            [0, 0, 1, 0],\n",
        "                            [0, 0, 0, 1]]))\n",
        "\n",
        "expected_mat.append(None)\n",
        "\n",
        "\n",
        "# test case 6 - should throw an exception due to the input not being square\n",
        "input_mat.append(np.array([[1, -1, 1],\n",
        "                           [-1, 0, -1]]))\n",
        "\n",
        "kernel_mat.append(np.array([[1, 0],\n",
        "                            [0, 1]]))\n",
        "\n",
        "expected_mat.append(None)\n",
        "\n",
        "\n",
        "# test case 7 - should throw an exception due to the kernel not being square\n",
        "input_mat.append(np.array([[1, -1],\n",
        "                           [-1, 0]]))\n",
        "\n",
        "kernel_mat.append(np.array([[1, 0]]))\n",
        "\n",
        "expected_mat.append(None)\n",
        "\n",
        "\n",
        "\n",
        "for i in range(len(input_mat)):\n",
        "    try:\n",
        "        output_mat = conv2d(input_mat[i], kernel_mat[i])\n",
        "\n",
        "        print(output_mat)\n",
        "        if np.array_equal(output_mat, expected_mat[i]):\n",
        "            print(\"Correct output!\")\n",
        "        else:\n",
        "            print(\"Incorrect output!\")\n",
        "    except Exception as e:\n",
        "        print(e)\n",
        "\n",
        "        if expected_mat[i] == None:\n",
        "            print(\"Correct output!\")\n",
        "        else:\n",
        "            print(\"Incorrect output!\")\n",
        "    \n",
        "    print()"
      ],
      "execution_count": 25,
      "outputs": [
        {
          "output_type": "stream",
          "text": [
            "[[2. 4. 2.]\n",
            " [4. 2. 4.]\n",
            " [2. 4. 2.]]\n",
            "Correct output!\n",
            "\n",
            "[[2. 0. 0.]\n",
            " [0. 2. 0.]\n",
            " [0. 0. 2.]]\n",
            "Correct output!\n",
            "\n",
            "[[ 1. -1.  0.]\n",
            " [-1.  1. -1.]\n",
            " [ 0. -1.  1.]]\n",
            "Correct output!\n",
            "\n",
            "[[4.]]\n",
            "Correct output!\n",
            "\n",
            "The kernel cannot be larger than the input\n",
            "Correct output!\n",
            "\n",
            "The input matrix must be square\n",
            "Correct output!\n",
            "\n",
            "The kernel matrix must be square\n",
            "Correct output!\n",
            "\n"
          ],
          "name": "stdout"
        }
      ]
    },
    {
      "cell_type": "markdown",
      "metadata": {
        "id": "drA4IG-28zZa",
        "colab_type": "text"
      },
      "source": [
        "# Problem 2"
      ]
    },
    {
      "cell_type": "markdown",
      "metadata": {
        "id": "VqGjpY6W801R",
        "colab_type": "text"
      },
      "source": [
        "In this problem, the maxpooling2d function is implemented from scratch using numpy. This function takes in the input and a window size and outputs the maxpooled array. The stride is assumed to be the size of the window. This uses the default behavior of Keras, which does not pad the input.\n",
        "\n",
        "The process starts in the top left corner of the input array. The maximum value within an s by s region is found and placed into the output array at (0, 0). The window moves right by s, and the process repeats until the window cannot fit into the input array. The window then moves down s and back to the left of the input array. This continues until the window falls off the bottom of the input array."
      ]
    },
    {
      "cell_type": "markdown",
      "metadata": {
        "id": "rsU-1ht0-MHs",
        "colab_type": "text"
      },
      "source": [
        "## Define the Function"
      ]
    },
    {
      "cell_type": "code",
      "metadata": {
        "id": "muSVfApQ-KJi",
        "colab_type": "code",
        "colab": {}
      },
      "source": [
        "\"\"\"\n",
        "Calculates the MaxPool of input_mat using a window of size s.\n",
        "input_mat must be a square matrix.\n",
        "The stride is assumed to be the size of the window.\n",
        "The input is not padded if the window cannot fit all of the remaining input matrix, as per the default behavior of Keras. This is not a requirement of the problem.\n",
        "\"\"\"\n",
        "def maxpooling2d(input_mat: np.array, window_size: int) -> np.array:\n",
        "    if (input_mat.shape[0] != input_mat.shape[1]):\n",
        "        raise ValueError(\"The input matrix must be square\")\n",
        "\n",
        "    input_size = input_mat.shape[0]\n",
        "\n",
        "    if window_size > input_size:\n",
        "        raise ValueError(\"The window size cannot be larger than the input\")\n",
        "\n",
        "    # Calculate the size of the output array\n",
        "    output_size = input_size // window_size\n",
        "\n",
        "    # Create output array\n",
        "    output_mat = np.zeros((output_size, output_size))\n",
        "\n",
        "    # Perform MaxPooling\n",
        "    for y_stride in range(output_size):\n",
        "        y_pos = y_stride * window_size\n",
        "        for x_stride in range(output_size):\n",
        "            x_pos = x_stride * window_size\n",
        "\n",
        "            # Find the max\n",
        "            output_mat[y_stride][x_stride] = np.amax(input_mat[y_pos:y_pos+window_size, x_pos:x_pos+window_size])\n",
        "\n",
        "    return output_mat"
      ],
      "execution_count": 0,
      "outputs": []
    },
    {
      "cell_type": "markdown",
      "metadata": {
        "id": "cSVuah8SA1Et",
        "colab_type": "text"
      },
      "source": [
        "## Test the Function"
      ]
    },
    {
      "cell_type": "code",
      "metadata": {
        "id": "l_9mremoA4Ga",
        "colab_type": "code",
        "outputId": "d64933c4-059b-46a5-d561-20bc0a9183fe",
        "colab": {
          "base_uri": "https://localhost:8080/",
          "height": 201
        }
      },
      "source": [
        "input_mat = []\n",
        "expected_mat = []\n",
        "s = []\n",
        "\n",
        "# test case 1\n",
        "input_mat.append(np.array([[1, 2, 1, 2],\n",
        "                           [2, 4, 2, 1],\n",
        "                           [1, 2, 4, 2],\n",
        "                           [2, 1, 2, 1]]))\n",
        "s.append(2)\n",
        "\n",
        "expected_mat.append(np.array([[4, 2],\n",
        "                              [2, 4]]))\n",
        "\n",
        "\n",
        "# test case 2 - should throw an exception due to the input not being square\n",
        "input_mat.append(np.array([[1, 2, 1, 2, 4, 5],\n",
        "                           [2, 4, 2, 1, 0, 3],\n",
        "                           [1, 2, 4, 2, 4, 5],\n",
        "                           [2, 1, 2, 1, 2, 1],\n",
        "                           [1, 1, 2, 3, 1, 2]]))\n",
        "s.append(2)\n",
        "\n",
        "expected_mat.append(None)\n",
        "\n",
        "\n",
        "# test case 3 - should throw an exception due to the window being larger than the input\n",
        "input_mat.append(np.array([[1, -1],\n",
        "                           [-1, 0]]))\n",
        "\n",
        "s.append(3)\n",
        "\n",
        "expected_mat.append(None)\n",
        "\n",
        "\n",
        "for i in range(len(input_mat)):\n",
        "    try:\n",
        "        output_mat = maxpooling2d(input_mat[i], s[i])\n",
        "\n",
        "        print(output_mat)\n",
        "\n",
        "        if np.array_equal(output_mat, expected_mat[i]):\n",
        "            print(\"Correct output!\")\n",
        "        else:\n",
        "            print(\"Incorrect output!\")\n",
        "    except Exception as e:\n",
        "        print(e)\n",
        "\n",
        "        if expected_mat[i] == None:\n",
        "            print(\"Correct output!\")\n",
        "        else:\n",
        "            print(\"Incorrect output!\")\n",
        "    \n",
        "    print()\n"
      ],
      "execution_count": 27,
      "outputs": [
        {
          "output_type": "stream",
          "text": [
            "[[4. 2.]\n",
            " [2. 4.]]\n",
            "Correct output!\n",
            "\n",
            "The input matrix must be square\n",
            "Correct output!\n",
            "\n",
            "The window size cannot be larger than the input\n",
            "Correct output!\n",
            "\n"
          ],
          "name": "stdout"
        }
      ]
    }
  ]
}