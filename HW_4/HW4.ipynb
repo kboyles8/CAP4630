{
  "nbformat": 4,
  "nbformat_minor": 0,
  "metadata": {
    "colab": {
      "name": "HW4.ipynb",
      "provenance": [],
      "collapsed_sections": [],
      "authorship_tag": "ABX9TyOn7PsXZ2eflkKU/JdvzCSy",
      "include_colab_link": true
    },
    "kernelspec": {
      "name": "python3",
      "display_name": "Python 3"
    }
  },
  "cells": [
    {
      "cell_type": "markdown",
      "metadata": {
        "id": "view-in-github",
        "colab_type": "text"
      },
      "source": [
        "<a href=\"https://colab.research.google.com/github/kboyles8/CAP4630/blob/master/HW_4/HW4.ipynb\" target=\"_parent\"><img src=\"https://colab.research.google.com/assets/colab-badge.svg\" alt=\"Open In Colab\"/></a>"
      ]
    },
    {
      "cell_type": "markdown",
      "metadata": {
        "id": "hUYLsseimSS3",
        "colab_type": "text"
      },
      "source": [
        "# Problem 1"
      ]
    },
    {
      "cell_type": "markdown",
      "metadata": {
        "id": "Fu1M78E4mTxk",
        "colab_type": "text"
      },
      "source": [
        "In this problem, the `conv2d` function is implemented from scratch using numpy. This function takes in the input and kernel array and outputs the convolution array.\n",
        "\n",
        "The process starts in the top left corner of the input array. The kernel is multiplied into a section of the input array equal to its size, and the resulting matrix is summed and placed into position (0, 0) in the output array. The kernel is then shifted right by one, and the process continues until the end of the input array is reached. The kernel moves to the next row and continues."
      ]
    },
    {
      "cell_type": "markdown",
      "metadata": {
        "id": "3ZzyW_FIuQ0g",
        "colab_type": "text"
      },
      "source": [
        "## Initial Setup"
      ]
    },
    {
      "cell_type": "code",
      "metadata": {
        "id": "wKxD78zUuRSa",
        "colab_type": "code",
        "colab": {}
      },
      "source": [
        "import numpy as np"
      ],
      "execution_count": 0,
      "outputs": []
    },
    {
      "cell_type": "markdown",
      "metadata": {
        "id": "ClK6t3NpuKly",
        "colab_type": "text"
      },
      "source": [
        "## Define the Function"
      ]
    },
    {
      "cell_type": "code",
      "metadata": {
        "id": "W2In_kZDuJxr",
        "colab_type": "code",
        "colab": {}
      },
      "source": [
        "\"\"\"\n",
        "Calculates the 2D convolution of input_mat using kernel_mat as a filter.\n",
        "input_mat and kernel_mat are assumed to be square matrices.\n",
        "The kernel cannot be larger than the input.\n",
        "\"\"\"\n",
        "def conv2d(input_mat: np.array, kernel_mat: np.array) -> np.array:\n",
        "    input_size = input_mat.shape[0]\n",
        "    kernel_size = kernel_mat.shape[0]\n",
        "\n",
        "    if kernel_size > input_size:\n",
        "        raise ValueError(\"The kernel cannot be larger than the input\")\n",
        "\n",
        "    # Calculate the size of the output array\n",
        "    output_size = input_size - kernel_size + 1\n",
        "\n",
        "    # Create output array\n",
        "    output_mat = np.zeros((output_size, output_size))\n",
        "\n",
        "    # Colvolve\n",
        "    for y_pos in range(output_size):\n",
        "        for x_pos in range(output_size):\n",
        "            # Apply kernel and sum\n",
        "            output_mat[y_pos][x_pos] = np.sum(input_mat[y_pos:y_pos+kernel_size, x_pos:x_pos+kernel_size] * kernel_mat)\n",
        "\n",
        "    return output_mat"
      ],
      "execution_count": 0,
      "outputs": []
    },
    {
      "cell_type": "markdown",
      "metadata": {
        "id": "cIO-s2_A7hsd",
        "colab_type": "text"
      },
      "source": [
        "## Test the Function"
      ]
    },
    {
      "cell_type": "code",
      "metadata": {
        "id": "mezWRRx_yu1C",
        "colab_type": "code",
        "colab": {
          "base_uri": "https://localhost:8080/",
          "height": 90
        },
        "outputId": "e24027a1-6958-4c50-e1dd-88026b2462da"
      },
      "source": [
        "input_mat = np.array([[1, 2, 1, 2],\n",
        "                      [2, 1, 2, 1],\n",
        "                      [1, 2, 1, 2],\n",
        "                      [2, 1, 2, 1]])\n",
        "\n",
        "kernel_mat = np.array([[1, 0],\n",
        "                       [0, 1]])\n",
        "\n",
        "expected_output_mat = np.array([[2, 4, 2],\n",
        "                                [4, 2, 4],\n",
        "                                [2, 4, 2]])\n",
        "\n",
        "output_mat = conv2d(input_mat, kernel_mat)\n",
        "\n",
        "print(output_mat)\n",
        "\n",
        "if np.array_equal(output_mat, expected_output_mat):\n",
        "    print(\"Correct output!\")\n",
        "else:\n",
        "    print(\"Incorrect output!\")\n"
      ],
      "execution_count": 3,
      "outputs": [
        {
          "output_type": "stream",
          "text": [
            "[[2. 4. 2.]\n",
            " [4. 2. 4.]\n",
            " [2. 4. 2.]]\n",
            "Correct output!\n"
          ],
          "name": "stdout"
        }
      ]
    },
    {
      "cell_type": "markdown",
      "metadata": {
        "id": "drA4IG-28zZa",
        "colab_type": "text"
      },
      "source": [
        "# Problem 2"
      ]
    },
    {
      "cell_type": "markdown",
      "metadata": {
        "id": "VqGjpY6W801R",
        "colab_type": "text"
      },
      "source": [
        "In this problem, the maxpooling2d function is implemented from scratch using numpy. This function takes in the input and a window size and outputs the maxpooled array. The stride is assumed to be the size of the window. This uses the default behavior of Keras, which does not pad the input.\n",
        "\n",
        "The process starts in the top left corner of the input array. The maximum value within an s by s region is found and placed into the output array at (0, 0). The window moves right by s, and the process repeats until the window cannot fit into the input array. The window then moves down s and back to the left of the input array. This continues until the window falls off the bottom of the input array."
      ]
    },
    {
      "cell_type": "markdown",
      "metadata": {
        "id": "rsU-1ht0-MHs",
        "colab_type": "text"
      },
      "source": [
        "## Define the Function"
      ]
    },
    {
      "cell_type": "code",
      "metadata": {
        "id": "muSVfApQ-KJi",
        "colab_type": "code",
        "colab": {}
      },
      "source": [
        "\"\"\"\n",
        "Calculates the MaxPool of input_mat using a window of size s.\n",
        "input_mat is assumed to be a square matrix.\n",
        "The stride is assumed to be the size of the window.\n",
        "The input is not padded if the window cannot fit all of the remaining input matrix, as per the default behavior of Keras.\n",
        "\"\"\"\n",
        "def maxpooling2d(input_mat: np.array, window_size: int) -> np.array:\n",
        "    input_size = input_mat.shape[0]\n",
        "\n",
        "    if window_size > input_size:\n",
        "        raise ValueError(\"The window size cannot be larger than the input\")\n",
        "\n",
        "    # Calculate the size of the output array\n",
        "    output_size = input_size // window_size\n",
        "\n",
        "    # Create output array\n",
        "    output_mat = np.zeros((output_size, output_size))\n",
        "\n",
        "    # Perform MaxPooling\n",
        "    for y_stride in range(output_size):\n",
        "        y_pos = y_stride * window_size\n",
        "        for x_stride in range(output_size):\n",
        "            x_pos = x_stride * window_size\n",
        "\n",
        "            # Find the max\n",
        "            output_mat[y_stride][x_stride] = np.amax(input_mat[y_pos:y_pos+window_size, x_pos:x_pos+window_size])\n",
        "\n",
        "    return output_mat"
      ],
      "execution_count": 0,
      "outputs": []
    },
    {
      "cell_type": "markdown",
      "metadata": {
        "id": "cSVuah8SA1Et",
        "colab_type": "text"
      },
      "source": [
        "## Test the Function"
      ]
    },
    {
      "cell_type": "code",
      "metadata": {
        "id": "l_9mremoA4Ga",
        "colab_type": "code",
        "colab": {
          "base_uri": "https://localhost:8080/",
          "height": 72
        },
        "outputId": "bfaae4e4-e758-4771-c8ed-9d27fd471b45"
      },
      "source": [
        "input_mat = np.array([[1, 2, 1, 2],\n",
        "                      [2, 4, 2, 1],\n",
        "                      [1, 2, 4, 2],\n",
        "                      [2, 1, 2, 1]])\n",
        "\n",
        "expected_output_mat = np.array([[4, 2],\n",
        "                                [2, 4]])\n",
        "\n",
        "output_mat = maxpooling2d(input_mat, 2)\n",
        "\n",
        "print(output_mat)\n",
        "\n",
        "if np.array_equal(output_mat, expected_output_mat):\n",
        "    print(\"Correct output!\")\n",
        "else:\n",
        "    print(\"Incorrect output!\")"
      ],
      "execution_count": 5,
      "outputs": [
        {
          "output_type": "stream",
          "text": [
            "[[4. 2.]\n",
            " [2. 4.]]\n",
            "Correct output!\n"
          ],
          "name": "stdout"
        }
      ]
    }
  ]
}