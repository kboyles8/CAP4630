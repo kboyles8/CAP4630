{
  "nbformat": 4,
  "nbformat_minor": 0,
  "metadata": {
    "colab": {
      "name": "HW4 P3 Part 2.ipynb",
      "provenance": [],
      "collapsed_sections": [],
      "include_colab_link": true
    },
    "kernelspec": {
      "name": "python3",
      "display_name": "Python 3"
    },
    "accelerator": "GPU"
  },
  "cells": [
    {
      "cell_type": "markdown",
      "metadata": {
        "id": "view-in-github",
        "colab_type": "text"
      },
      "source": [
        "<a href=\"https://colab.research.google.com/github/kboyles8/CAP4630/blob/master/HW_4/HW4_P3_Part_2.ipynb\" target=\"_parent\"><img src=\"https://colab.research.google.com/assets/colab-badge.svg\" alt=\"Open In Colab\"/></a>"
      ]
    },
    {
      "cell_type": "markdown",
      "metadata": {
        "id": "KSrgMJ5vKFzQ",
        "colab_type": "text"
      },
      "source": [
        "# Problem 3: Part 2"
      ]
    },
    {
      "cell_type": "markdown",
      "metadata": {
        "id": "TIW7bZaAK-Hf",
        "colab_type": "text"
      },
      "source": [
        "In this problem, the notebook https://colab.research.google.com/drive/1F-RWvoxH8MmT7c1UmNy41iuOp-ejiLoF is modified to use the DenseNet121 convolutional neural network instead.\n",
        "\n",
        "For Part 2, the categorical classification method is used.\n",
        "\n",
        "The final `sigmoid` activation function is swapped for `softmax` and the error is modified from `binary_crossentropy` to `categorical_crossentropy` to account for the change.\n",
        "\n",
        "**NOTE**: In testing, some of the code blocks (such as compiling and running the model the first time) fail randomly. Running them again fixes it. I don't know what is causing this but it appears out of my control."
      ]
    },
    {
      "cell_type": "markdown",
      "metadata": {
        "id": "nsBq__dVo2pj",
        "colab_type": "text"
      },
      "source": [
        "## Feature extraction"
      ]
    },
    {
      "cell_type": "markdown",
      "metadata": {
        "id": "0g6ETAM9o54M",
        "colab_type": "text"
      },
      "source": [
        "Feature extraction consists of using the representations learned by a previous network to extract interesting features from new samples. These features are then run through a new classifier, which is trained from scratch.\n",
        "\n",
        "We will use here the convolutional base of the DenseNet121 model to extract the features. We will feed these features to a densely connected classifier with dropout. We will fine-tune some layers."
      ]
    },
    {
      "cell_type": "markdown",
      "metadata": {
        "id": "AxnDUIOiL4Qf",
        "colab_type": "text"
      },
      "source": [
        "## Use Tensorflow 2.0"
      ]
    },
    {
      "cell_type": "code",
      "metadata": {
        "id": "wr2-zhL6L31m",
        "colab_type": "code",
        "colab": {}
      },
      "source": [
        "%tensorflow_version 2.x\n",
        "import tensorflow as tf"
      ],
      "execution_count": 0,
      "outputs": []
    },
    {
      "cell_type": "markdown",
      "metadata": {
        "id": "BqIG8QHMLNOn",
        "colab_type": "text"
      },
      "source": [
        "## Download the data"
      ]
    },
    {
      "cell_type": "markdown",
      "metadata": {
        "id": "t3I1jd7cKV6_",
        "colab_type": "text"
      },
      "source": [
        "Download the example data, a zip. of 2,000 JPG pictures of cats and dogs and extract it locally in ```/tmp```.\n",
        "\n"
      ]
    },
    {
      "cell_type": "code",
      "metadata": {
        "id": "JWjprHEXJ5Qi",
        "colab_type": "code",
        "outputId": "41dceff4-54ff-444f-b793-102d95408f0a",
        "colab": {
          "base_uri": "https://localhost:8080/",
          "height": 219
        }
      },
      "source": [
        "!wget --no-check-certificate \\\n",
        "    https://storage.googleapis.com/mledu-datasets/cats_and_dogs_filtered.zip \\\n",
        "    -O /tmp/cats_and_dogs_filtered.zip"
      ],
      "execution_count": 2,
      "outputs": [
        {
          "output_type": "stream",
          "text": [
            "--2020-04-08 22:44:16--  https://storage.googleapis.com/mledu-datasets/cats_and_dogs_filtered.zip\n",
            "Resolving storage.googleapis.com (storage.googleapis.com)... 216.58.192.112, 2607:f8b0:4026:802::2010\n",
            "Connecting to storage.googleapis.com (storage.googleapis.com)|216.58.192.112|:443... connected.\n",
            "HTTP request sent, awaiting response... 200 OK\n",
            "Length: 68606236 (65M) [application/zip]\n",
            "Saving to: ‘/tmp/cats_and_dogs_filtered.zip’\n",
            "\n",
            "/tmp/cats_and_dogs_ 100%[===================>]  65.43M   113MB/s    in 0.6s    \n",
            "\n",
            "2020-04-08 22:44:17 (113 MB/s) - ‘/tmp/cats_and_dogs_filtered.zip’ saved [68606236/68606236]\n",
            "\n"
          ],
          "name": "stdout"
        }
      ]
    },
    {
      "cell_type": "code",
      "metadata": {
        "id": "WvoHtdA-K6Rw",
        "colab_type": "code",
        "colab": {}
      },
      "source": [
        "import os\n",
        "import zipfile\n",
        "\n",
        "local_zip = '/tmp/cats_and_dogs_filtered.zip'\n",
        "zip_ref = zipfile.ZipFile(local_zip, 'r')\n",
        "zip_ref.extractall('/tmp')\n",
        "zip_ref.close()"
      ],
      "execution_count": 0,
      "outputs": []
    },
    {
      "cell_type": "markdown",
      "metadata": {
        "id": "shZiOBnJMyy_",
        "colab_type": "text"
      },
      "source": [
        "Note that the data provided by Google does not have a test set."
      ]
    },
    {
      "cell_type": "code",
      "metadata": {
        "id": "dL8ikM89LlsH",
        "colab_type": "code",
        "colab": {}
      },
      "source": [
        "base_dir = '/tmp/cats_and_dogs_filtered'\n",
        "train_dir = os.path.join(base_dir, 'train')\n",
        "validation_dir = os.path.join(base_dir, 'validation')\n",
        "\n",
        "# Directory with our training cat pictures\n",
        "train_cats_dir = os.path.join(train_dir, 'cats')\n",
        "\n",
        "# Directory with our training dog pictures\n",
        "train_dogs_dir = os.path.join(train_dir, 'dogs')\n",
        "\n",
        "# Directory with our validation cat pictures\n",
        "validation_cats_dir = os.path.join(validation_dir, 'cats')\n",
        "\n",
        "# Directory with our validation dog pictures\n",
        "validation_dogs_dir = os.path.join(validation_dir, 'dogs')"
      ],
      "execution_count": 0,
      "outputs": []
    },
    {
      "cell_type": "markdown",
      "metadata": {
        "id": "inyP8bcdXnn-",
        "colab_type": "text"
      },
      "source": [
        "## Build network with DenseNet121 convolution base and custom densely connected layers"
      ]
    },
    {
      "cell_type": "markdown",
      "metadata": {
        "id": "kQ48W5T9rHWu",
        "colab_type": "text"
      },
      "source": [
        "### Load the convolutional base"
      ]
    },
    {
      "cell_type": "code",
      "metadata": {
        "id": "Y0FgtANCXm_H",
        "colab_type": "code",
        "outputId": "e2771924-75fa-494f-e93f-b301fa620b9a",
        "colab": {
          "base_uri": "https://localhost:8080/",
          "height": 54
        }
      },
      "source": [
        "from tensorflow.keras.applications import DenseNet121\n",
        "\n",
        "conv_base = DenseNet121(\n",
        "    weights='imagenet', \n",
        "    include_top=False, \n",
        "    input_shape=(150, 150, 3))"
      ],
      "execution_count": 7,
      "outputs": [
        {
          "output_type": "stream",
          "text": [
            "Downloading data from https://storage.googleapis.com/tensorflow/keras-applications/densenet/densenet121_weights_tf_dim_ordering_tf_kernels_notop.h5\n",
            "29089792/29084464 [==============================] - 0s 0us/step\n"
          ],
          "name": "stdout"
        }
      ]
    },
    {
      "cell_type": "markdown",
      "metadata": {
        "id": "D6OBHOO9q1ou",
        "colab_type": "text"
      },
      "source": [
        "### Freeze the convolutional base"
      ]
    },
    {
      "cell_type": "code",
      "metadata": {
        "id": "UleRo4Dpq6Ld",
        "colab_type": "code",
        "colab": {}
      },
      "source": [
        "conv_base.trainable = False"
      ],
      "execution_count": 0,
      "outputs": []
    },
    {
      "cell_type": "markdown",
      "metadata": {
        "id": "Qfx6PqhPrb7Q",
        "colab_type": "text"
      },
      "source": [
        "### Concatenate the convolutional base and densely connected layers"
      ]
    },
    {
      "cell_type": "code",
      "metadata": {
        "id": "qUpmocDAO3xm",
        "colab_type": "code",
        "colab": {}
      },
      "source": [
        "from tensorflow.keras import layers\n",
        "from tensorflow.keras import models\n",
        "from tensorflow.keras import optimizers\n",
        "\n",
        "model = models.Sequential()\n",
        "model.add(conv_base)\n",
        "model.add(layers.Flatten())\n",
        "model.add(layers.Dense(256, activation='relu'))\n",
        "model.add(layers.Dropout(0.1))\n",
        "model.add(layers.Dense(1, activation='softmax'))"
      ],
      "execution_count": 0,
      "outputs": []
    },
    {
      "cell_type": "code",
      "metadata": {
        "id": "Fh6gZSeAjF7c",
        "colab_type": "code",
        "outputId": "45b7dd0d-da66-42b4-a4f4-f4cf3697f62d",
        "colab": {
          "base_uri": "https://localhost:8080/",
          "height": 348
        }
      },
      "source": [
        "model.summary()"
      ],
      "execution_count": 10,
      "outputs": [
        {
          "output_type": "stream",
          "text": [
            "Model: \"sequential\"\n",
            "_________________________________________________________________\n",
            "Layer (type)                 Output Shape              Param #   \n",
            "=================================================================\n",
            "densenet121 (Model)          (None, 4, 4, 1024)        7037504   \n",
            "_________________________________________________________________\n",
            "flatten (Flatten)            (None, 16384)             0         \n",
            "_________________________________________________________________\n",
            "dense (Dense)                (None, 256)               4194560   \n",
            "_________________________________________________________________\n",
            "dropout (Dropout)            (None, 256)               0         \n",
            "_________________________________________________________________\n",
            "dense_1 (Dense)              (None, 1)                 257       \n",
            "=================================================================\n",
            "Total params: 11,232,321\n",
            "Trainable params: 4,194,817\n",
            "Non-trainable params: 7,037,504\n",
            "_________________________________________________________________\n"
          ],
          "name": "stdout"
        }
      ]
    },
    {
      "cell_type": "markdown",
      "metadata": {
        "id": "eZjBiddhi5Qj",
        "colab_type": "text"
      },
      "source": [
        "## Train the model end to end with frozen convolutional base"
      ]
    },
    {
      "cell_type": "code",
      "metadata": {
        "id": "tfAQlC2Oi41L",
        "colab_type": "code",
        "outputId": "54c563b4-215d-40dd-cd38-da045c76696f",
        "colab": {
          "base_uri": "https://localhost:8080/",
          "height": 54
        }
      },
      "source": [
        "from tensorflow.keras.preprocessing.image import ImageDataGenerator\n",
        "from tensorflow.keras import optimizers\n",
        "\n",
        "# data augmentation\n",
        "\n",
        "train_datagen = ImageDataGenerator(\n",
        "    rescale=1./255, \n",
        "    rotation_range=40,\n",
        "    width_shift_range=0.2,\n",
        "    height_shift_range=0.2,\n",
        "    shear_range=0.2,\n",
        "    zoom_range=0.2,\n",
        "    horizontal_flip=True,\n",
        "    fill_mode='nearest'\n",
        ")\n",
        "\n",
        "train_generator = train_datagen.flow_from_directory(\n",
        "    train_dir,\n",
        "    target_size=(150, 150),\n",
        "    batch_size=20,\n",
        "    class_mode='categorical')\n",
        "\n",
        "validation_datagen = ImageDataGenerator(rescale=1./255)\n",
        "\n",
        "validation_generator = validation_datagen.flow_from_directory(\n",
        "    validation_dir,\n",
        "    target_size=(150, 150),\n",
        "    batch_size=20,\n",
        "    class_mode='categorical')\n"
      ],
      "execution_count": 11,
      "outputs": [
        {
          "output_type": "stream",
          "text": [
            "Found 2000 images belonging to 2 classes.\n",
            "Found 1000 images belonging to 2 classes.\n"
          ],
          "name": "stdout"
        }
      ]
    },
    {
      "cell_type": "code",
      "metadata": {
        "id": "bPSkKcMv9EOg",
        "colab_type": "code",
        "colab": {
          "base_uri": "https://localhost:8080/",
          "height": 1000
        },
        "outputId": "ed82f59f-c31b-4f60-bfc6-67c548822f3a"
      },
      "source": [
        "# compile model\n",
        "\n",
        "model.compile(\n",
        "    loss='categorical_crossentropy', \n",
        "    optimizer=optimizers.RMSprop(lr=2e-5), \n",
        "    metrics=['acc'])\n",
        "\n",
        "# train\n",
        "\n",
        "history = model.fit(\n",
        "    train_generator,\n",
        "    steps_per_epoch=100,\n",
        "    epochs=30,\n",
        "    validation_data=validation_generator,\n",
        "    validation_steps=50\n",
        ")"
      ],
      "execution_count": 13,
      "outputs": [
        {
          "output_type": "stream",
          "text": [
            "Epoch 1/30\n",
            "100/100 [==============================] - 22s 220ms/step - loss: 0.4502 - acc: 0.8765 - val_loss: 0.1588 - val_acc: 0.9600\n",
            "Epoch 2/30\n",
            "100/100 [==============================] - 20s 201ms/step - loss: 0.2109 - acc: 0.9150 - val_loss: 0.0946 - val_acc: 0.9650\n",
            "Epoch 3/30\n",
            "100/100 [==============================] - 20s 204ms/step - loss: 0.1675 - acc: 0.9290 - val_loss: 0.0914 - val_acc: 0.9660\n",
            "Epoch 4/30\n",
            "100/100 [==============================] - 20s 202ms/step - loss: 0.1582 - acc: 0.9285 - val_loss: 0.0704 - val_acc: 0.9690\n",
            "Epoch 5/30\n",
            "100/100 [==============================] - 20s 204ms/step - loss: 0.1514 - acc: 0.9365 - val_loss: 0.0677 - val_acc: 0.9740\n",
            "Epoch 6/30\n",
            "100/100 [==============================] - 20s 202ms/step - loss: 0.1397 - acc: 0.9445 - val_loss: 0.0735 - val_acc: 0.9740\n",
            "Epoch 7/30\n",
            "100/100 [==============================] - 20s 201ms/step - loss: 0.1330 - acc: 0.9435 - val_loss: 0.0707 - val_acc: 0.9690\n",
            "Epoch 8/30\n",
            "100/100 [==============================] - 20s 200ms/step - loss: 0.1308 - acc: 0.9510 - val_loss: 0.0741 - val_acc: 0.9700\n",
            "Epoch 9/30\n",
            "100/100 [==============================] - 20s 201ms/step - loss: 0.1188 - acc: 0.9500 - val_loss: 0.0733 - val_acc: 0.9690\n",
            "Epoch 10/30\n",
            "100/100 [==============================] - 20s 202ms/step - loss: 0.1284 - acc: 0.9465 - val_loss: 0.0674 - val_acc: 0.9650\n",
            "Epoch 11/30\n",
            "100/100 [==============================] - 20s 202ms/step - loss: 0.1235 - acc: 0.9465 - val_loss: 0.0664 - val_acc: 0.9700\n",
            "Epoch 12/30\n",
            "100/100 [==============================] - 20s 204ms/step - loss: 0.1317 - acc: 0.9420 - val_loss: 0.0724 - val_acc: 0.9650\n",
            "Epoch 13/30\n",
            "100/100 [==============================] - 20s 200ms/step - loss: 0.1294 - acc: 0.9510 - val_loss: 0.0762 - val_acc: 0.9690\n",
            "Epoch 14/30\n",
            "100/100 [==============================] - 20s 202ms/step - loss: 0.1188 - acc: 0.9530 - val_loss: 0.0750 - val_acc: 0.9660\n",
            "Epoch 15/30\n",
            "100/100 [==============================] - 20s 200ms/step - loss: 0.1215 - acc: 0.9470 - val_loss: 0.0634 - val_acc: 0.9750\n",
            "Epoch 16/30\n",
            "100/100 [==============================] - 20s 200ms/step - loss: 0.1294 - acc: 0.9465 - val_loss: 0.0579 - val_acc: 0.9710\n",
            "Epoch 17/30\n",
            "100/100 [==============================] - 20s 202ms/step - loss: 0.1124 - acc: 0.9510 - val_loss: 0.0697 - val_acc: 0.9680\n",
            "Epoch 18/30\n",
            "100/100 [==============================] - 20s 201ms/step - loss: 0.1152 - acc: 0.9480 - val_loss: 0.0695 - val_acc: 0.9700\n",
            "Epoch 19/30\n",
            "100/100 [==============================] - 20s 201ms/step - loss: 0.1010 - acc: 0.9580 - val_loss: 0.0665 - val_acc: 0.9700\n",
            "Epoch 20/30\n",
            "100/100 [==============================] - 20s 202ms/step - loss: 0.1201 - acc: 0.9485 - val_loss: 0.0941 - val_acc: 0.9560\n",
            "Epoch 21/30\n",
            "100/100 [==============================] - 20s 201ms/step - loss: 0.1083 - acc: 0.9550 - val_loss: 0.0744 - val_acc: 0.9630\n",
            "Epoch 22/30\n",
            "100/100 [==============================] - 20s 197ms/step - loss: 0.1079 - acc: 0.9560 - val_loss: 0.0682 - val_acc: 0.9700\n",
            "Epoch 23/30\n",
            "100/100 [==============================] - 20s 197ms/step - loss: 0.1065 - acc: 0.9520 - val_loss: 0.0994 - val_acc: 0.9540\n",
            "Epoch 24/30\n",
            "100/100 [==============================] - 21s 205ms/step - loss: 0.0985 - acc: 0.9575 - val_loss: 0.0625 - val_acc: 0.9700\n",
            "Epoch 25/30\n",
            "100/100 [==============================] - 20s 202ms/step - loss: 0.1027 - acc: 0.9545 - val_loss: 0.0959 - val_acc: 0.9600\n",
            "Epoch 26/30\n",
            "100/100 [==============================] - 20s 201ms/step - loss: 0.0989 - acc: 0.9575 - val_loss: 0.0544 - val_acc: 0.9750\n",
            "Epoch 27/30\n",
            "100/100 [==============================] - 20s 199ms/step - loss: 0.1093 - acc: 0.9540 - val_loss: 0.0701 - val_acc: 0.9670\n",
            "Epoch 28/30\n",
            "100/100 [==============================] - 20s 199ms/step - loss: 0.1110 - acc: 0.9530 - val_loss: 0.0453 - val_acc: 0.9810\n",
            "Epoch 29/30\n",
            "100/100 [==============================] - 20s 197ms/step - loss: 0.1037 - acc: 0.9580 - val_loss: 0.0582 - val_acc: 0.9720\n",
            "Epoch 30/30\n",
            "100/100 [==============================] - 20s 200ms/step - loss: 0.1112 - acc: 0.9495 - val_loss: 0.0877 - val_acc: 0.9640\n"
          ],
          "name": "stdout"
        }
      ]
    },
    {
      "cell_type": "markdown",
      "metadata": {
        "id": "xqRc_vHKc92U",
        "colab_type": "text"
      },
      "source": [
        "## Display curves of loss and accuracy during training"
      ]
    },
    {
      "cell_type": "code",
      "metadata": {
        "id": "ybWwdzz9bwuQ",
        "colab_type": "code",
        "outputId": "dcf1aad3-e384-42ec-dc86-40b63820fff0",
        "colab": {
          "base_uri": "https://localhost:8080/",
          "height": 545
        }
      },
      "source": [
        "%matplotlib inline\n",
        "\n",
        "import matplotlib.pyplot as plt\n",
        "\n",
        "acc = history.history['acc']\n",
        "val_acc = history.history['val_acc']\n",
        "\n",
        "loss = history.history['loss']\n",
        "val_loss = history.history['val_loss']\n",
        "\n",
        "epochs = range(1, len(acc) + 1)\n",
        "\n",
        "# training and validation accuracy\n",
        "\n",
        "plt.plot(epochs, acc, 'bo', label='training acc')\n",
        "plt.plot(epochs, val_acc, 'b', label='validation acc')\n",
        "plt.title('training and validation accuracy')\n",
        "plt.legend()\n",
        "\n",
        "plt.figure()\n",
        "\n",
        "# training and validation loss\n",
        "\n",
        "plt.plot(epochs, loss, 'bo', label='training loss')\n",
        "plt.plot(epochs, val_loss, 'b', label='validation loss')\n",
        "plt.title('training and validation loss')\n",
        "plt.legend()\n",
        "\n",
        "plt.show()"
      ],
      "execution_count": 15,
      "outputs": [
        {
          "output_type": "display_data",
          "data": {
            "image/png": "[encoded data removed]",
            "text/plain": [
              "<Figure size 432x288 with 1 Axes>"
            ]
          },
          "metadata": {
            "tags": []
          }
        },
        {
          "output_type": "display_data",
          "data": {
            "image/png": "[encoded data removed]",
            "text/plain": [
              "<Figure size 432x288 with 1 Axes>"
            ]
          },
          "metadata": {
            "tags": []
          }
        }
      ]
    },
    {
      "cell_type": "markdown",
      "metadata": {
        "id": "lOWsxpey8lN0",
        "colab_type": "text"
      },
      "source": [
        "## Fine-tuning"
      ]
    },
    {
      "cell_type": "markdown",
      "metadata": {
        "id": "OHorsI1r24Ga",
        "colab_type": "text"
      },
      "source": [
        "Fine-tuning has been modified to unfreeze the layer `conv5_block1_0_bn`, and all following layers."
      ]
    },
    {
      "cell_type": "code",
      "metadata": {
        "id": "PwkVMx8N8qMw",
        "colab_type": "code",
        "colab": {}
      },
      "source": [
        "conv_base.trainable = True\n",
        "\n",
        "set_trainable = False\n",
        "for layer in conv_base.layers:\n",
        "    if layer.name == 'conv5_block1_0_bn':\n",
        "        set_trainable = True\n",
        "    if set_trainable:\n",
        "        layer.trainable = True\n",
        "    else:\n",
        "        layer.trainable = False"
      ],
      "execution_count": 0,
      "outputs": []
    },
    {
      "cell_type": "code",
      "metadata": {
        "id": "DyN-J7rs9cvo",
        "colab_type": "code",
        "outputId": "f03e418a-021b-4d73-efa8-25e7f6053110",
        "colab": {
          "base_uri": "https://localhost:8080/",
          "height": 1000
        }
      },
      "source": [
        "# compile model\n",
        "\n",
        "model.compile(\n",
        "    loss='categorical_crossentropy',\n",
        "    #\n",
        "    # choose a smaller learning rate\n",
        "    #\n",
        "    optimizer=optimizers.RMSprop(lr=1e-5), \n",
        "    metrics=['acc'])\n",
        "\n",
        "# train\n",
        "\n",
        "history = model.fit(\n",
        "    train_generator,\n",
        "    steps_per_epoch=100,\n",
        "    epochs=30,\n",
        "    validation_data=validation_generator,\n",
        "    validation_steps=50)"
      ],
      "execution_count": 21,
      "outputs": [
        {
          "output_type": "stream",
          "text": [
            "Epoch 1/30\n",
            "100/100 [==============================] - 21s 210ms/step - loss: 0.1486 - acc: 0.9360 - val_loss: 0.0607 - val_acc: 0.9750\n",
            "Epoch 2/30\n",
            "100/100 [==============================] - 20s 196ms/step - loss: 0.1347 - acc: 0.9470 - val_loss: 0.0667 - val_acc: 0.9660\n",
            "Epoch 3/30\n",
            "100/100 [==============================] - 20s 198ms/step - loss: 0.1646 - acc: 0.9320 - val_loss: 0.0675 - val_acc: 0.9690\n",
            "Epoch 4/30\n",
            "100/100 [==============================] - 20s 198ms/step - loss: 0.1328 - acc: 0.9470 - val_loss: 0.0617 - val_acc: 0.9740\n",
            "Epoch 5/30\n",
            "100/100 [==============================] - 20s 198ms/step - loss: 0.1524 - acc: 0.9370 - val_loss: 0.0564 - val_acc: 0.9710\n",
            "Epoch 6/30\n",
            "100/100 [==============================] - 20s 198ms/step - loss: 0.1297 - acc: 0.9490 - val_loss: 0.0714 - val_acc: 0.9660\n",
            "Epoch 7/30\n",
            "100/100 [==============================] - 20s 201ms/step - loss: 0.1206 - acc: 0.9495 - val_loss: 0.0535 - val_acc: 0.9730\n",
            "Epoch 8/30\n",
            "100/100 [==============================] - 20s 200ms/step - loss: 0.1046 - acc: 0.9565 - val_loss: 0.0552 - val_acc: 0.9740\n",
            "Epoch 9/30\n",
            "100/100 [==============================] - 20s 201ms/step - loss: 0.1123 - acc: 0.9525 - val_loss: 0.0690 - val_acc: 0.9680\n",
            "Epoch 10/30\n",
            "100/100 [==============================] - 20s 199ms/step - loss: 0.1037 - acc: 0.9575 - val_loss: 0.0567 - val_acc: 0.9710\n",
            "Epoch 11/30\n",
            "100/100 [==============================] - 20s 205ms/step - loss: 0.1260 - acc: 0.9510 - val_loss: 0.0520 - val_acc: 0.9740\n",
            "Epoch 12/30\n",
            "100/100 [==============================] - 20s 201ms/step - loss: 0.1275 - acc: 0.9485 - val_loss: 0.0547 - val_acc: 0.9760\n",
            "Epoch 13/30\n",
            "100/100 [==============================] - 20s 202ms/step - loss: 0.1170 - acc: 0.9505 - val_loss: 0.0639 - val_acc: 0.9720\n",
            "Epoch 14/30\n",
            "100/100 [==============================] - 20s 202ms/step - loss: 0.1015 - acc: 0.9600 - val_loss: 0.0496 - val_acc: 0.9780\n",
            "Epoch 15/30\n",
            "100/100 [==============================] - 20s 202ms/step - loss: 0.0967 - acc: 0.9635 - val_loss: 0.0532 - val_acc: 0.9750\n",
            "Epoch 16/30\n",
            "100/100 [==============================] - 20s 202ms/step - loss: 0.0997 - acc: 0.9580 - val_loss: 0.0459 - val_acc: 0.9790\n",
            "Epoch 17/30\n",
            "100/100 [==============================] - 20s 200ms/step - loss: 0.0949 - acc: 0.9585 - val_loss: 0.0566 - val_acc: 0.9730\n",
            "Epoch 18/30\n",
            "100/100 [==============================] - 20s 201ms/step - loss: 0.1128 - acc: 0.9550 - val_loss: 0.0559 - val_acc: 0.9760\n",
            "Epoch 19/30\n",
            "100/100 [==============================] - 20s 204ms/step - loss: 0.1042 - acc: 0.9585 - val_loss: 0.0564 - val_acc: 0.9740\n",
            "Epoch 20/30\n",
            "100/100 [==============================] - 20s 202ms/step - loss: 0.1018 - acc: 0.9585 - val_loss: 0.0498 - val_acc: 0.9800\n",
            "Epoch 21/30\n",
            "100/100 [==============================] - 20s 200ms/step - loss: 0.0960 - acc: 0.9660 - val_loss: 0.0571 - val_acc: 0.9750\n",
            "Epoch 22/30\n",
            "100/100 [==============================] - 20s 199ms/step - loss: 0.1009 - acc: 0.9615 - val_loss: 0.0598 - val_acc: 0.9730\n",
            "Epoch 23/30\n",
            "100/100 [==============================] - 20s 202ms/step - loss: 0.1008 - acc: 0.9605 - val_loss: 0.0586 - val_acc: 0.9740\n",
            "Epoch 24/30\n",
            "100/100 [==============================] - 20s 202ms/step - loss: 0.0842 - acc: 0.9630 - val_loss: 0.0496 - val_acc: 0.9790\n",
            "Epoch 25/30\n",
            "100/100 [==============================] - 21s 207ms/step - loss: 0.0850 - acc: 0.9685 - val_loss: 0.0557 - val_acc: 0.9760\n",
            "Epoch 26/30\n",
            "100/100 [==============================] - 21s 212ms/step - loss: 0.0893 - acc: 0.9640 - val_loss: 0.0569 - val_acc: 0.9740\n",
            "Epoch 27/30\n",
            "100/100 [==============================] - 21s 213ms/step - loss: 0.0772 - acc: 0.9695 - val_loss: 0.0631 - val_acc: 0.9710\n",
            "Epoch 28/30\n",
            "100/100 [==============================] - 21s 206ms/step - loss: 0.0889 - acc: 0.9655 - val_loss: 0.0600 - val_acc: 0.9740\n",
            "Epoch 29/30\n",
            "100/100 [==============================] - 20s 203ms/step - loss: 0.0764 - acc: 0.9675 - val_loss: 0.0679 - val_acc: 0.9740\n",
            "Epoch 30/30\n",
            "100/100 [==============================] - 20s 203ms/step - loss: 0.1145 - acc: 0.9620 - val_loss: 0.0509 - val_acc: 0.9750\n"
          ],
          "name": "stdout"
        }
      ]
    },
    {
      "cell_type": "markdown",
      "metadata": {
        "id": "eVBQgh5M-Rtz",
        "colab_type": "text"
      },
      "source": [
        "## Display learning curves during fine-tuning"
      ]
    },
    {
      "cell_type": "code",
      "metadata": {
        "id": "mbkIw7Ie-NP4",
        "colab_type": "code",
        "colab": {
          "base_uri": "https://localhost:8080/",
          "height": 545
        },
        "outputId": "ea92498b-2c2e-4f58-c508-86162364be8a"
      },
      "source": [
        "%matplotlib inline\n",
        "\n",
        "import matplotlib.pyplot as plt\n",
        "\n",
        "acc = history.history['acc']\n",
        "val_acc = history.history['val_acc']\n",
        "\n",
        "loss = history.history['loss']\n",
        "val_loss = history.history['val_loss']\n",
        "\n",
        "epochs = range(1, len(acc) + 1)\n",
        "\n",
        "# training and validation accuracy\n",
        "\n",
        "plt.plot(epochs, acc, 'bo', label='training acc')\n",
        "plt.plot(epochs, val_acc, 'b', label='validation acc')\n",
        "plt.title('training and validation accuracy')\n",
        "plt.legend()\n",
        "\n",
        "plt.figure()\n",
        "\n",
        "# training and validation loss\n",
        "\n",
        "plt.plot(epochs, loss, 'bo', label='training loss')\n",
        "plt.plot(epochs, val_loss, 'b', label='validation loss')\n",
        "plt.title('training and validation loss')\n",
        "plt.legend()\n",
        "\n",
        "plt.show()"
      ],
      "execution_count": 22,
      "outputs": [
        {
          "output_type": "display_data",
          "data": {
            "image/png": "[encoded data removed]",
            "text/plain": [
              "<Figure size 432x288 with 1 Axes>"
            ]
          },
          "metadata": {
            "tags": []
          }
        },
        {
          "output_type": "display_data",
          "data": {
            "image/png": "[encoded data removed]",
            "text/plain": [
              "<Figure size 432x288 with 1 Axes>"
            ]
          },
          "metadata": {
            "tags": []
          }
        }
      ]
    },
    {
      "cell_type": "markdown",
      "metadata": {
        "id": "he3Nw6TOJwjx",
        "colab_type": "text"
      },
      "source": [
        "## Print out validation loss and accuracy"
      ]
    },
    {
      "cell_type": "code",
      "metadata": {
        "id": "SVQtrk7uJdhl",
        "colab_type": "code",
        "colab": {
          "base_uri": "https://localhost:8080/",
          "height": 35
        },
        "outputId": "2b78a5fa-87b1-46b2-b701-1076ae3f5e46"
      },
      "source": [
        "val_loss, val_acc = model.evaluate(validation_generator, steps=50)"
      ],
      "execution_count": 23,
      "outputs": [
        {
          "output_type": "stream",
          "text": [
            "50/50 [==============================] - 4s 70ms/step - loss: 0.0575 - acc: 0.9730\n"
          ],
          "name": "stdout"
        }
      ]
    },
    {
      "cell_type": "code",
      "metadata": {
        "id": "HpdddLi1SUMe",
        "colab_type": "code",
        "colab": {
          "base_uri": "https://localhost:8080/",
          "height": 54
        },
        "outputId": "7ea88c6c-3799-4505-89e3-29e6ff930019"
      },
      "source": [
        "print(\"Validation loss:\", val_loss)\n",
        "print(\"Validation accuracy:\", val_acc)"
      ],
      "execution_count": 24,
      "outputs": [
        {
          "output_type": "stream",
          "text": [
            "Validation loss: 0.05748762562870979\n",
            "Validation accuracy: 0.9729999899864197\n"
          ],
          "name": "stdout"
        }
      ]
    }
  ]
}